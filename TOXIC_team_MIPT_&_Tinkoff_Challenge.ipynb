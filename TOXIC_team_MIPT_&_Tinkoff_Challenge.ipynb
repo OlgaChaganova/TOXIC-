{
  "nbformat": 4,
  "nbformat_minor": 0,
  "metadata": {
    "colab": {
      "name": "TOXIC team: MIPT & Tinkoff Challenge",
      "provenance": [],
      "collapsed_sections": [],
      "toc_visible": true
    },
    "kernelspec": {
      "display_name": "Python 3",
      "name": "python3"
    },
    "language_info": {
      "name": "python"
    },
    "accelerator": "GPU"
  },
  "cells": [
    {
      "cell_type": "markdown",
      "metadata": {
        "id": "gsplBsg4WSdr"
      },
      "source": [
        "# Libraries to use"
      ]
    },
    {
      "cell_type": "code",
      "metadata": {
        "colab": {
          "base_uri": "https://localhost:8080/"
        },
        "id": "dEqQnnjd7a5N",
        "outputId": "101e1751-028c-432a-973f-7bc1f3ec02b8"
      },
      "source": [
        "import pandas as pd\n",
        "import numpy as np\n",
        "\n",
        "from sklearn import metrics\n",
        "from google.colab import drive\n",
        "drive.mount('/content/drive', force_remount=True)\n",
        "\n",
        "import torch\n",
        "import torch.nn as nn\n",
        "import torch.optim as optim\n",
        "from torch.optim import lr_scheduler\n",
        "\n",
        "import gc\n",
        "import time\n",
        "\n",
        "import matplotlib.pyplot as plt\n",
        "import seaborn as sns\n",
        "\n",
        "import nltk\n",
        "from nltk.corpus import stopwords\n",
        "nltk.download('stopwords')\n",
        "\n",
        "import re"
      ],
      "execution_count": null,
      "outputs": [
        {
          "output_type": "stream",
          "text": [
            "Mounted at /content/drive\n",
            "[nltk_data] Downloading package stopwords to /root/nltk_data...\n",
            "[nltk_data]   Unzipping corpora/stopwords.zip.\n"
          ],
          "name": "stdout"
        }
      ]
    },
    {
      "cell_type": "code",
      "metadata": {
        "id": "u3eN9KDfjBDj"
      },
      "source": [
        "pip install pymorphy2"
      ],
      "execution_count": null,
      "outputs": []
    },
    {
      "cell_type": "code",
      "metadata": {
        "id": "XzLAY5X8jM9B"
      },
      "source": [
        "pip install nltk"
      ],
      "execution_count": null,
      "outputs": []
    },
    {
      "cell_type": "code",
      "metadata": {
        "id": "re7N7m390avg"
      },
      "source": [
        "pip install pytorch-transformers"
      ],
      "execution_count": null,
      "outputs": []
    },
    {
      "cell_type": "markdown",
      "metadata": {
        "id": "kDNYWYEfLeON"
      },
      "source": [
        "# Data uploading"
      ]
    },
    {
      "cell_type": "code",
      "metadata": {
        "colab": {
          "base_uri": "https://localhost:8080/",
          "height": 195
        },
        "id": "sGsYrYvNErw7",
        "outputId": "481d9874-7b1e-4c1e-cafa-dfa9dc89eefd"
      },
      "source": [
        "cups_train = pd.read_csv('https://raw.githubusercontent.com/OlgaChaganova/TOXIC-/main/train.txt', sep='\\t', names=['label', 'message'], index_col=0)\n",
        "\n",
        "for label in np.unique(cups_train['label']):\n",
        "  if label != \"__label__NORMAL\":\n",
        "    cups_train['label'].replace(label, True, inplace=True)\n",
        "  else:\n",
        "    cups_train['label'].replace(label, False, inplace=True)\n",
        "\n",
        "cups_train['split'] = 'train'\n",
        "cups_train = cups_train.loc[:, ['message', 'label', 'split']]\n",
        "\n",
        "cups_train.head()"
      ],
      "execution_count": null,
      "outputs": [
        {
          "output_type": "execute_result",
          "data": {
            "text/html": [
              "<div>\n",
              "<style scoped>\n",
              "    .dataframe tbody tr th:only-of-type {\n",
              "        vertical-align: middle;\n",
              "    }\n",
              "\n",
              "    .dataframe tbody tr th {\n",
              "        vertical-align: top;\n",
              "    }\n",
              "\n",
              "    .dataframe thead th {\n",
              "        text-align: right;\n",
              "    }\n",
              "</style>\n",
              "<table border=\"1\" class=\"dataframe\">\n",
              "  <thead>\n",
              "    <tr style=\"text-align: right;\">\n",
              "      <th></th>\n",
              "      <th>message</th>\n",
              "      <th>label</th>\n",
              "      <th>split</th>\n",
              "    </tr>\n",
              "  </thead>\n",
              "  <tbody>\n",
              "    <tr>\n",
              "      <th>41127</th>\n",
              "      <td>дворника надо тоже уничтожить!</td>\n",
              "      <td>True</td>\n",
              "      <td>train</td>\n",
              "    </tr>\n",
              "    <tr>\n",
              "      <th>6812</th>\n",
              "      <td>моя старшая неделю шипела, не принимала подкид...</td>\n",
              "      <td>False</td>\n",
              "      <td>train</td>\n",
              "    </tr>\n",
              "    <tr>\n",
              "      <th>6256</th>\n",
              "      <td>полностью с вами согласна!</td>\n",
              "      <td>False</td>\n",
              "      <td>train</td>\n",
              "    </tr>\n",
              "    <tr>\n",
              "      <th>189636</th>\n",
              "      <td>хоть ногу вверх, ничего не изменится</td>\n",
              "      <td>False</td>\n",
              "      <td>train</td>\n",
              "    </tr>\n",
              "    <tr>\n",
              "      <th>99053</th>\n",
              "      <td>а что значит - левого ребенка?</td>\n",
              "      <td>False</td>\n",
              "      <td>train</td>\n",
              "    </tr>\n",
              "  </tbody>\n",
              "</table>\n",
              "</div>"
            ],
            "text/plain": [
              "                                                  message  label  split\n",
              "41127                      дворника надо тоже уничтожить!   True  train\n",
              "6812    моя старшая неделю шипела, не принимала подкид...  False  train\n",
              "6256                           полностью с вами согласна!  False  train\n",
              "189636               хоть ногу вверх, ничего не изменится  False  train\n",
              "99053                      а что значит - левого ребенка?  False  train"
            ]
          },
          "metadata": {
            "tags": []
          },
          "execution_count": 5
        }
      ]
    },
    {
      "cell_type": "code",
      "metadata": {
        "colab": {
          "base_uri": "https://localhost:8080/"
        },
        "id": "fPaDxpXY8clr",
        "outputId": "3765d408-3447-4327-aa6d-87881937748e"
      },
      "source": [
        "sum(cups_train['label'] == False), sum(cups_train['label'] == True)"
      ],
      "execution_count": null,
      "outputs": [
        {
          "output_type": "execute_result",
          "data": {
            "text/plain": [
              "(122194, 26581)"
            ]
          },
          "metadata": {
            "tags": []
          },
          "execution_count": 6
        }
      ]
    },
    {
      "cell_type": "code",
      "metadata": {
        "colab": {
          "base_uri": "https://localhost:8080/",
          "height": 264
        },
        "id": "b-7NUZxcgsZ-",
        "outputId": "1e22f3aa-116e-467b-a7b7-f385ead7986a"
      },
      "source": [
        "categories = ['Toxic', 'Non-toxic']\n",
        "values = [sum(cups_train['label'] == False), sum(cups_train['label'] == True)]\n",
        "plt.title('Одноклассники')\n",
        "plt.pie(x=values, labels=categories)\n",
        "\n",
        "None"
      ],
      "execution_count": null,
      "outputs": [
        {
          "output_type": "display_data",
          "data": {
            "image/png": "[encoded data removed]",
            "text/plain": [
              "<Figure size 432x288 with 1 Axes>"
            ]
          },
          "metadata": {
            "tags": []
          }
        }
      ]
    },
    {
      "cell_type": "code",
      "metadata": {
        "id": "Vrkmau_gHnF5"
      },
      "source": [
        "tinkoff_data = pd.read_csv('https://raw.githubusercontent.com/OlgaChaganova/TOXIC-/main/pulse_stage1_patch.csv')"
      ],
      "execution_count": null,
      "outputs": []
    },
    {
      "cell_type": "code",
      "metadata": {
        "colab": {
          "base_uri": "https://localhost:8080/"
        },
        "id": "MXC3zIG28seO",
        "outputId": "f360fec7-5b3b-4b4e-f98f-0435a8bfe068"
      },
      "source": [
        "sum(tinkoff_data['label'] == False), sum(tinkoff_data['label'] == True)"
      ],
      "execution_count": null,
      "outputs": [
        {
          "output_type": "execute_result",
          "data": {
            "text/plain": [
              "(33466, 1141)"
            ]
          },
          "metadata": {
            "tags": []
          },
          "execution_count": 9
        }
      ]
    },
    {
      "cell_type": "code",
      "metadata": {
        "colab": {
          "base_uri": "https://localhost:8080/",
          "height": 264
        },
        "id": "misBOm_BiBfM",
        "outputId": "09292fbd-6e69-4ea1-d6e9-f2aa056d1933"
      },
      "source": [
        "categories = ['Toxic', 'Non-toxic']\n",
        "values = [sum(tinkoff_data['label'] == False), sum(tinkoff_data['label'] == True)]\n",
        "plt.title('Тинькофф')\n",
        "plt.pie(x=values, labels=categories)\n",
        "\n",
        "None"
      ],
      "execution_count": null,
      "outputs": [
        {
          "output_type": "display_data",
          "data": {
            "image/png": "[encoded data removed]",
            "text/plain": [
              "<Figure size 432x288 with 1 Axes>"
            ]
          },
          "metadata": {
            "tags": []
          }
        }
      ]
    },
    {
      "cell_type": "code",
      "metadata": {
        "colab": {
          "base_uri": "https://localhost:8080/",
          "height": 195
        },
        "id": "J3G7ZKlnI9pv",
        "outputId": "24056491-29c0-4026-8dbc-eb1520bc52f0"
      },
      "source": [
        "kaggle_data = pd.read_csv('https://raw.githubusercontent.com/OlgaChaganova/TOXIC-/main/russian%20toxic%20comments%20(kaggle).csv',\n",
        "                          names=['message', 'label'], header=0)\n",
        "kaggle_data['split'] = 'train'\n",
        "kaggle_data['label'] = kaggle_data['label'].astype(bool)\n",
        "kaggle_data.head()"
      ],
      "execution_count": null,
      "outputs": [
        {
          "output_type": "execute_result",
          "data": {
            "text/html": [
              "<div>\n",
              "<style scoped>\n",
              "    .dataframe tbody tr th:only-of-type {\n",
              "        vertical-align: middle;\n",
              "    }\n",
              "\n",
              "    .dataframe tbody tr th {\n",
              "        vertical-align: top;\n",
              "    }\n",
              "\n",
              "    .dataframe thead th {\n",
              "        text-align: right;\n",
              "    }\n",
              "</style>\n",
              "<table border=\"1\" class=\"dataframe\">\n",
              "  <thead>\n",
              "    <tr style=\"text-align: right;\">\n",
              "      <th></th>\n",
              "      <th>message</th>\n",
              "      <th>label</th>\n",
              "      <th>split</th>\n",
              "    </tr>\n",
              "  </thead>\n",
              "  <tbody>\n",
              "    <tr>\n",
              "      <th>0</th>\n",
              "      <td>Верблюдов-то за что? Дебилы, бл...\\n</td>\n",
              "      <td>True</td>\n",
              "      <td>train</td>\n",
              "    </tr>\n",
              "    <tr>\n",
              "      <th>1</th>\n",
              "      <td>Хохлы, это отдушина затюканого россиянина, мол...</td>\n",
              "      <td>True</td>\n",
              "      <td>train</td>\n",
              "    </tr>\n",
              "    <tr>\n",
              "      <th>2</th>\n",
              "      <td>Собаке - собачья смерть\\n</td>\n",
              "      <td>True</td>\n",
              "      <td>train</td>\n",
              "    </tr>\n",
              "    <tr>\n",
              "      <th>3</th>\n",
              "      <td>Страницу обнови, дебил. Это тоже не оскорблени...</td>\n",
              "      <td>True</td>\n",
              "      <td>train</td>\n",
              "    </tr>\n",
              "    <tr>\n",
              "      <th>4</th>\n",
              "      <td>тебя не убедил 6-страничный пдф в том, что Скр...</td>\n",
              "      <td>True</td>\n",
              "      <td>train</td>\n",
              "    </tr>\n",
              "  </tbody>\n",
              "</table>\n",
              "</div>"
            ],
            "text/plain": [
              "                                             message  label  split\n",
              "0               Верблюдов-то за что? Дебилы, бл...\\n   True  train\n",
              "1  Хохлы, это отдушина затюканого россиянина, мол...   True  train\n",
              "2                          Собаке - собачья смерть\\n   True  train\n",
              "3  Страницу обнови, дебил. Это тоже не оскорблени...   True  train\n",
              "4  тебя не убедил 6-страничный пдф в том, что Скр...   True  train"
            ]
          },
          "metadata": {
            "tags": []
          },
          "execution_count": 11
        }
      ]
    },
    {
      "cell_type": "code",
      "metadata": {
        "colab": {
          "base_uri": "https://localhost:8080/",
          "height": 264
        },
        "id": "_YOEybjEiLtM",
        "outputId": "d1750ebb-44b9-4ae5-d013-92bfa1646a32"
      },
      "source": [
        "categories = ['Toxic', 'Non-toxic']\n",
        "values = [sum(tinkoff_data['label'] == False), sum(tinkoff_data['label'] == True)]\n",
        "plt.title('Kaggle')\n",
        "plt.pie(x=values, labels=categories)\n",
        "\n",
        "None"
      ],
      "execution_count": null,
      "outputs": [
        {
          "output_type": "display_data",
          "data": {
            "image/png": "[encoded data removed]",
            "text/plain": [
              "<Figure size 432x288 with 1 Axes>"
            ]
          },
          "metadata": {
            "tags": []
          }
        }
      ]
    },
    {
      "cell_type": "code",
      "metadata": {
        "colab": {
          "base_uri": "https://localhost:8080/"
        },
        "id": "E44a4JG575Ia",
        "outputId": "bf8c1219-0817-48a3-f87a-7bd9bf61bf7f"
      },
      "source": [
        "sum(kaggle_data['label'] == False), sum(kaggle_data['label'] == True)"
      ],
      "execution_count": null,
      "outputs": [
        {
          "output_type": "execute_result",
          "data": {
            "text/plain": [
              "(9586, 4826)"
            ]
          },
          "metadata": {
            "tags": []
          },
          "execution_count": 13
        }
      ]
    },
    {
      "cell_type": "code",
      "metadata": {
        "colab": {
          "base_uri": "https://localhost:8080/",
          "height": 402
        },
        "id": "3updyolPINC-",
        "outputId": "9046570a-0d6d-4a55-baa2-736aef397643"
      },
      "source": [
        "DATA = pd.concat([tinkoff_data, cups_train[cups_train['label'] == True], kaggle_data], axis=0).reset_index(drop=True)\n",
        "DATA"
      ],
      "execution_count": null,
      "outputs": [
        {
          "output_type": "execute_result",
          "data": {
            "text/html": [
              "<div>\n",
              "<style scoped>\n",
              "    .dataframe tbody tr th:only-of-type {\n",
              "        vertical-align: middle;\n",
              "    }\n",
              "\n",
              "    .dataframe tbody tr th {\n",
              "        vertical-align: top;\n",
              "    }\n",
              "\n",
              "    .dataframe thead th {\n",
              "        text-align: right;\n",
              "    }\n",
              "</style>\n",
              "<table border=\"1\" class=\"dataframe\">\n",
              "  <thead>\n",
              "    <tr style=\"text-align: right;\">\n",
              "      <th></th>\n",
              "      <th>message</th>\n",
              "      <th>label</th>\n",
              "      <th>split</th>\n",
              "    </tr>\n",
              "  </thead>\n",
              "  <tbody>\n",
              "    <tr>\n",
              "      <th>0</th>\n",
              "      <td>Пиздабол ещё тот</td>\n",
              "      <td>True</td>\n",
              "      <td>train</td>\n",
              "    </tr>\n",
              "    <tr>\n",
              "      <th>1</th>\n",
              "      <td>Заколебали кукарекать, скоро весь пульс будет ...</td>\n",
              "      <td>True</td>\n",
              "      <td>train</td>\n",
              "    </tr>\n",
              "    <tr>\n",
              "      <th>2</th>\n",
              "      <td>На деле собака сутулая</td>\n",
              "      <td>True</td>\n",
              "      <td>train</td>\n",
              "    </tr>\n",
              "    <tr>\n",
              "      <th>3</th>\n",
              "      <td>Пшнх от сюда тварь</td>\n",
              "      <td>True</td>\n",
              "      <td>train</td>\n",
              "    </tr>\n",
              "    <tr>\n",
              "      <th>4</th>\n",
              "      <td>плати за мое молчание клоп , сутки молчу 200 б...</td>\n",
              "      <td>True</td>\n",
              "      <td>train</td>\n",
              "    </tr>\n",
              "    <tr>\n",
              "      <th>...</th>\n",
              "      <td>...</td>\n",
              "      <td>...</td>\n",
              "      <td>...</td>\n",
              "    </tr>\n",
              "    <tr>\n",
              "      <th>75595</th>\n",
              "      <td>Вонючий совковый скот прибежал и ноет. А вот и...</td>\n",
              "      <td>True</td>\n",
              "      <td>train</td>\n",
              "    </tr>\n",
              "    <tr>\n",
              "      <th>75596</th>\n",
              "      <td>А кого любить? Гоблина тупорылого что-ли? Или ...</td>\n",
              "      <td>True</td>\n",
              "      <td>train</td>\n",
              "    </tr>\n",
              "    <tr>\n",
              "      <th>75597</th>\n",
              "      <td>Посмотрел Утомленных солнцем 2. И оказалось, ч...</td>\n",
              "      <td>False</td>\n",
              "      <td>train</td>\n",
              "    </tr>\n",
              "    <tr>\n",
              "      <th>75598</th>\n",
              "      <td>КРЫМОТРЕД НАРУШАЕТ ПРАВИЛА РАЗДЕЛА Т.К В НЕМ Н...</td>\n",
              "      <td>True</td>\n",
              "      <td>train</td>\n",
              "    </tr>\n",
              "    <tr>\n",
              "      <th>75599</th>\n",
              "      <td>До сих пор пересматриваю его видео. Орамбо кст...</td>\n",
              "      <td>False</td>\n",
              "      <td>train</td>\n",
              "    </tr>\n",
              "  </tbody>\n",
              "</table>\n",
              "<p>75600 rows × 3 columns</p>\n",
              "</div>"
            ],
            "text/plain": [
              "                                                 message  label  split\n",
              "0                                       Пиздабол ещё тот   True  train\n",
              "1      Заколебали кукарекать, скоро весь пульс будет ...   True  train\n",
              "2                                 На деле собака сутулая   True  train\n",
              "3                                     Пшнх от сюда тварь   True  train\n",
              "4      плати за мое молчание клоп , сутки молчу 200 б...   True  train\n",
              "...                                                  ...    ...    ...\n",
              "75595  Вонючий совковый скот прибежал и ноет. А вот и...   True  train\n",
              "75596  А кого любить? Гоблина тупорылого что-ли? Или ...   True  train\n",
              "75597  Посмотрел Утомленных солнцем 2. И оказалось, ч...  False  train\n",
              "75598  КРЫМОТРЕД НАРУШАЕТ ПРАВИЛА РАЗДЕЛА Т.К В НЕМ Н...   True  train\n",
              "75599  До сих пор пересматриваю его видео. Орамбо кст...  False  train\n",
              "\n",
              "[75600 rows x 3 columns]"
            ]
          },
          "metadata": {
            "tags": []
          },
          "execution_count": 14
        }
      ]
    },
    {
      "cell_type": "code",
      "metadata": {
        "colab": {
          "base_uri": "https://localhost:8080/"
        },
        "id": "BcYhP-HFI5lO",
        "outputId": "c47e8ae0-d6e1-42ba-f9e0-d74bd16f293c"
      },
      "source": [
        "DATA[DATA['split'] == 'train']['label'].value_counts()\n"
      ],
      "execution_count": null,
      "outputs": [
        {
          "output_type": "execute_result",
          "data": {
            "text/plain": [
              "False    36374\n",
              "True     32320\n",
              "Name: label, dtype: int64"
            ]
          },
          "metadata": {
            "tags": []
          },
          "execution_count": 14
        }
      ]
    },
    {
      "cell_type": "code",
      "metadata": {
        "colab": {
          "base_uri": "https://localhost:8080/",
          "height": 264
        },
        "id": "NTjz0Xa5igaR",
        "outputId": "392503be-a38e-4836-d4df-272f04114bff"
      },
      "source": [
        "categories = ['Toxic', 'Non-toxic']\n",
        "values = [sum(DATA['label'] == False), sum(DATA['label'] == True)]\n",
        "plt.title('Train data')\n",
        "plt.pie(x=values, labels=categories)\n",
        "\n",
        "None"
      ],
      "execution_count": null,
      "outputs": [
        {
          "output_type": "display_data",
          "data": {
            "image/png": "[encoded data removed]",
            "text/plain": [
              "<Figure size 432x288 with 1 Axes>"
            ]
          },
          "metadata": {
            "tags": []
          }
        }
      ]
    },
    {
      "cell_type": "code",
      "metadata": {
        "id": "XJAfDRRyC_MX"
      },
      "source": [
        "data_train = DATA[DATA['split'] == 'train'].copy()\n",
        "data_valid = DATA[DATA['split'] == 'valid'].copy()\n",
        "\n",
        "del data_train['split'], data_valid['split']"
      ],
      "execution_count": null,
      "outputs": []
    },
    {
      "cell_type": "markdown",
      "metadata": {
        "id": "almjIX6TjFha"
      },
      "source": [
        "# Text Cleaning "
      ]
    },
    {
      "cell_type": "code",
      "metadata": {
        "id": "HD4gh7S0U5EJ"
      },
      "source": [
        "emoji_pattern = re.compile(\"[\"\n",
        "                       u\"\\U0001F600-\\U0001F64F\"  # emoticons\n",
        "                       u\"\\U0001F300-\\U0001F5FF\"  # symbols & pictographs\n",
        "                       u\"\\U0001F680-\\U0001F6FF\"  # transport & map symbols\n",
        "                       u\"\\U0001F1E0-\\U0001F1FF\"  # flags (iOS)\n",
        "                       u\"\\U00002702-\\U000027B0\"\n",
        "                       u\"\\U000024C2-\\U0001F251\"\n",
        "                       \"]+\", flags=re.UNICODE)  \n",
        "\n",
        "stop= stopwords.words(\"russian\")\n",
        "\n",
        "def remove_emoji(string):\n",
        "    return emoji_pattern.sub(r'', string)\n",
        "\n",
        "def prepross_text_in_dataset(dataset):\n",
        "  dataset[\"message\"] = dataset[\"message\"].str.lower() #к нижнему регистру\n",
        "\n",
        "  dataset[\"message\"] = dataset[\"message\"].str.replace('[^\\w\\s]',' ') #убираем пунктуацию\n",
        "\n",
        "  dataset[\"message\"] = dataset[\"message\"].str.replace(' \\d+',' ') #убираем цифры\n",
        "\n",
        "  dataset[\"message\"] = dataset[\"message\"].str.replace('\\n', ' ') #убираем новые строки\n",
        "\n",
        "  dataset['message'] = dataset['message'].apply(remove_emoji) #убираем emoji\n",
        "\n",
        "  #удаляем стоп-слова\n",
        "  pat = r'\\b(?:{})\\b'.format('|'.join(stop))\n",
        "  dataset['message_sw'] = dataset['message'].str.replace(pat, '')\n",
        "  dataset['message_sw'] = dataset['message_sw'].str.replace(r'\\s+', ' ')\n",
        "\n",
        "  del dataset['message']\n",
        "  dataset.rename(columns={'message_sw' : 'message'}, inplace=True) \n",
        "\n",
        "  dataset['message'] = dataset['message'].str.findall('\\w{3,}').str.join(' ') # удаляем слова короче 3 символов\n",
        "\n",
        "  return dataset.loc[:, ['message', 'label']]"
      ],
      "execution_count": null,
      "outputs": []
    },
    {
      "cell_type": "markdown",
      "metadata": {
        "id": "CoSG0BqP6B3J"
      },
      "source": [
        "# Task 1: toxic comments detection"
      ]
    },
    {
      "cell_type": "code",
      "metadata": {
        "id": "Rrx2ypKA9OPB"
      },
      "source": [
        "import torch\n",
        "from torch.utils.data import TensorDataset, DataLoader, RandomSampler, SequentialSampler\n",
        "from keras.preprocessing.sequence import pad_sequences\n",
        "from sklearn.model_selection import train_test_split\n",
        "\n",
        "from pytorch_transformers import BertTokenizer, BertConfig\n",
        "from pytorch_transformers import AdamW, BertForSequenceClassification\n",
        "from pytorch_transformers import BertTokenizer, BertConfig\n",
        "\n",
        "from tqdm import tqdm, trange\n",
        "import pandas as pd\n",
        "import io\n",
        "import numpy as np\n",
        "from sklearn.metrics import accuracy_score, f1_score, recall_score, precision_score, confusion_matrix\n",
        "import matplotlib.pyplot as plt"
      ],
      "execution_count": null,
      "outputs": []
    },
    {
      "cell_type": "code",
      "metadata": {
        "colab": {
          "base_uri": "https://localhost:8080/"
        },
        "id": "hkwU_5pz9OED",
        "outputId": "802bba84-128c-4461-a94c-b6d1e1f75c5b"
      },
      "source": [
        "device = torch.device(\"cuda\" if torch.cuda.is_available() else \"cpu\")\n",
        "\n",
        "if device == torch.device('cpu'):\n",
        "    print('Using cpu')\n",
        "else:\n",
        "    n_gpu = torch.cuda.device_count()\n",
        "    print('Using {} GPUs'.format(torch.cuda.get_device_name(0)))"
      ],
      "execution_count": null,
      "outputs": [
        {
          "output_type": "stream",
          "text": [
            "Using Tesla K80 GPUs\n"
          ],
          "name": "stdout"
        }
      ]
    },
    {
      "cell_type": "code",
      "metadata": {
        "id": "i_ZabEWKTvow"
      },
      "source": [
        "def prepare_data_for_bert(data, MAX_LEN, BATCH_SIZE):\n",
        "  data = prepross_text_in_dataset(data) # препоцессим\n",
        "\n",
        "  comments = [\"[CLS] \" + message + \" [SEP]\" for message in data.message]\n",
        "  labels = data.label\n",
        "  labels = np.where(labels == True, 1, 0)\n",
        "\n",
        "  assert len(comments) == len(labels)\n",
        "\n",
        "  tokenizer = BertTokenizer.from_pretrained('bert-base-uncased', do_lower_case=True)\n",
        "\n",
        "  tokenized_texts = [tokenizer.tokenize(comment) for comment in comments]\n",
        "\n",
        "  input_ids = [tokenizer.convert_tokens_to_ids(x) for x in tokenized_texts] # !!!!\n",
        "  input_ids = pad_sequences(\n",
        "      input_ids,\n",
        "      maxlen=MAX_LEN,\n",
        "      dtype=\"long\",\n",
        "      truncating=\"post\",\n",
        "      padding=\"post\"\n",
        "  )\n",
        "  attention_masks = [[float(i>0) for i in seq] for seq in input_ids]\n",
        "\n",
        "\n",
        "  inputs = torch.tensor(input_ids)\n",
        "  labels = torch.tensor(labels).reshape(len(data),1)\n",
        "  masks = torch.tensor(attention_masks)\n",
        "\n",
        "\n",
        "  data_tensor = TensorDataset(inputs, masks, labels)\n",
        "  dataloader = DataLoader(\n",
        "      data_tensor,\n",
        "      sampler=RandomSampler(data_tensor),\n",
        "      batch_size=BATCH_SIZE\n",
        "  )\n",
        "\n",
        "  return dataloader"
      ],
      "execution_count": null,
      "outputs": []
    },
    {
      "cell_type": "markdown",
      "metadata": {
        "id": "JXD5qgXPjwQX"
      },
      "source": [
        "## Data preprocessing и fine-tuning BERT"
      ]
    },
    {
      "cell_type": "code",
      "metadata": {
        "id": "KZzqSSFJHsuu"
      },
      "source": [
        "message_count_train = data_train['message'].str.len()\n",
        "message_count_valid = data_valid['message'].str.len()"
      ],
      "execution_count": null,
      "outputs": []
    },
    {
      "cell_type": "code",
      "metadata": {
        "colab": {
          "base_uri": "https://localhost:8080/"
        },
        "id": "gAH0MYggIm4T",
        "outputId": "4efbfa35-4569-4bc9-8efd-28cf0d6abc67"
      },
      "source": [
        "message_count_train.describe()"
      ],
      "execution_count": null,
      "outputs": [
        {
          "output_type": "execute_result",
          "data": {
            "text/plain": [
              "count    68694.000000\n",
              "mean       109.458977\n",
              "std        152.107650\n",
              "min          3.000000\n",
              "25%         34.000000\n",
              "50%         69.000000\n",
              "75%        134.000000\n",
              "max       7349.000000\n",
              "Name: message, dtype: float64"
            ]
          },
          "metadata": {
            "tags": []
          },
          "execution_count": 24
        }
      ]
    },
    {
      "cell_type": "code",
      "metadata": {
        "colab": {
          "base_uri": "https://localhost:8080/",
          "height": 269
        },
        "id": "OrM2HuPeH1wU",
        "outputId": "9aa26d82-9e0e-4803-ed1c-073dd2dcbb6a"
      },
      "source": [
        "plt.hist(message_count_train[message_count_train < 500], bins='auto')\n",
        "None"
      ],
      "execution_count": null,
      "outputs": [
        {
          "output_type": "display_data",
          "data": {
            "image/png": "[encoded data removed]",
            "text/plain": [
              "<Figure size 432x288 with 1 Axes>"
            ]
          },
          "metadata": {
            "tags": [],
            "needs_background": "light"
          }
        }
      ]
    },
    {
      "cell_type": "code",
      "metadata": {
        "id": "EqSVWhPD_RBI"
      },
      "source": [
        "train_dataloader = prepare_data_for_bert(data_train, 200, 16)"
      ],
      "execution_count": null,
      "outputs": []
    },
    {
      "cell_type": "code",
      "metadata": {
        "id": "-mTyHmrFAPVc"
      },
      "source": [
        "validation_dataloader = prepare_data_for_bert(data_valid, 200, 16)"
      ],
      "execution_count": null,
      "outputs": []
    },
    {
      "cell_type": "markdown",
      "metadata": {
        "id": "obi7NUha_S57"
      },
      "source": [
        "## Model"
      ]
    },
    {
      "cell_type": "code",
      "metadata": {
        "id": "wn0uZKaiP98M",
        "colab": {
          "base_uri": "https://localhost:8080/"
        },
        "outputId": "0761e086-efc5-4039-8e74-0add83927223"
      },
      "source": [
        "model = BertForSequenceClassification.from_pretrained(\"bert-base-uncased\", num_labels=2)\n",
        "model.to(device)\n",
        "\n",
        "param_optimizer = list(model.named_parameters())\n",
        "no_decay = ['bias', 'gamma', 'beta']\n",
        "optimizer_grouped_parameters = [\n",
        "    {'params': [p for n, p in param_optimizer if not any(nd in n for nd in no_decay)],\n",
        "     'weight_decay_rate': 0.01},\n",
        "    {'params': [p for n, p in param_optimizer if any(nd in n for nd in no_decay)],\n",
        "     'weight_decay_rate': 0.0}\n",
        "]\n",
        "\n",
        "optimizer = AdamW(optimizer_grouped_parameters, lr=2e-5)"
      ],
      "execution_count": null,
      "outputs": [
        {
          "output_type": "stream",
          "text": [
            "100%|██████████| 433/433 [00:00<00:00, 99079.85B/s]\n",
            "100%|██████████| 440473133/440473133 [00:34<00:00, 12856276.13B/s]\n"
          ],
          "name": "stderr"
        }
      ]
    },
    {
      "cell_type": "code",
      "metadata": {
        "id": "5likTSp_EnPs"
      },
      "source": [
        "gc.collect()\n",
        "torch.cuda.empty_cache()"
      ],
      "execution_count": null,
      "outputs": []
    },
    {
      "cell_type": "code",
      "metadata": {
        "id": "2NCDnsKjQIDX",
        "colab": {
          "base_uri": "https://localhost:8080/",
          "height": 312
        },
        "outputId": "5cfa8324-a8ec-4deb-bc35-1110c1b8f399"
      },
      "source": [
        "from IPython.display import clear_output\n",
        "\n",
        "train_loss_set = []\n",
        "train_loss = 0\n",
        "\n",
        "NUM_EPOCHS = 1\n",
        "\n",
        "# Обучение\n",
        "# Переводим модель в training mode\n",
        "model.train()\n",
        "\n",
        "for i in range(NUM_EPOCHS):\n",
        "\n",
        "  for step, batch in enumerate(train_dataloader):\n",
        "      # добавляем батч для вычисления на GPU\n",
        "      batch = tuple(t.to(device) for t in batch)\n",
        "      # Распаковываем данные из dataloader\n",
        "      b_input_ids, b_input_mask, b_labels = batch\n",
        "      \n",
        "      # если не сделать .zero_grad(), градиенты будут накапливаться\n",
        "      optimizer.zero_grad()\n",
        "      \n",
        "      # Forward pass\n",
        "      loss = model(b_input_ids, token_type_ids=None, attention_mask=b_input_mask, labels=b_labels)\n",
        "\n",
        "      train_loss_set.append(loss[0].item())  \n",
        "      \n",
        "      # Backward pass\n",
        "      loss[0].backward()\n",
        "      \n",
        "      # Обновляем параметры и делаем шаг используя посчитанные градиенты\n",
        "      optimizer.step()\n",
        "\n",
        "      # Обновляем loss\n",
        "      train_loss += loss[0].item()\n",
        "      \n",
        "      # Рисуем график\n",
        "      clear_output(True)\n",
        "      plt.plot(train_loss_set)\n",
        "      plt.title(\"Training loss\")\n",
        "      plt.xlabel(\"Batch\")\n",
        "      plt.ylabel(\"Loss\")\n",
        "      plt.show()\n",
        "    \n",
        "print(\"Loss на обучающей выборке: {0:.5f}\".format(train_loss / len(train_dataloader)))\n"
      ],
      "execution_count": null,
      "outputs": [
        {
          "output_type": "display_data",
          "data": {
            "image/png": "[encoded data removed]",
            "text/plain": [
              "<Figure size 432x288 with 1 Axes>"
            ]
          },
          "metadata": {
            "tags": [],
            "needs_background": "light"
          }
        },
        {
          "output_type": "stream",
          "text": [
            "Loss на обучающей выборке: 0.26632\n"
          ],
          "name": "stdout"
        }
      ]
    },
    {
      "cell_type": "code",
      "metadata": {
        "id": "-dvsxU93msVZ"
      },
      "source": [
        "# Валидация\n",
        "# Переводим модель в evaluation mode\n",
        "model.eval()\n",
        "\n",
        "valid_preds, valid_labels = [], []\n",
        "\n",
        "for batch in validation_dataloader:   \n",
        "    # добавляем батч для вычисления на GPU\n",
        "    batch = tuple(t.to(device) for t in batch)\n",
        "    \n",
        "    # Распаковываем данные из dataloader\n",
        "    b_input_ids, b_input_mask, b_labels = batch\n",
        "    \n",
        "    # При использовании .no_grad() модель не будет считать и хранить градиенты.\n",
        "    # Это ускорит процесс предсказания меток для валидационных данных.\n",
        "    with torch.no_grad():\n",
        "        logits = model(b_input_ids, token_type_ids=None, attention_mask=b_input_mask)\n",
        "\n",
        "    # Перемещаем logits и метки классов на CPU для дальнейшей работы\n",
        "    logits = logits[0].detach().cpu().numpy()\n",
        "    label_ids = b_labels.to('cpu').numpy()\n",
        "    \n",
        "    batch_preds = np.argmax(logits, axis=1)\n",
        "    batch_labels = np.concatenate(label_ids)     \n",
        "    valid_preds.extend(batch_preds)\n",
        "    valid_labels.extend(batch_labels)\n",
        "\n",
        "print(\"Процент правильных предсказаний на валидационной выборке: {0:.2f}%\".format(\n",
        "    accuracy_score(valid_labels, valid_preds) * 100\n",
        "))"
      ],
      "execution_count": null,
      "outputs": []
    },
    {
      "cell_type": "code",
      "metadata": {
        "id": "bNIt4XdIFehP"
      },
      "source": [
        "print(\"F1 = \", f1_score(valid_labels, valid_preds))\n",
        "print(\"Recall = \", recall_score(valid_labels, valid_preds))\n",
        "print(\"Precision = \", precision_score(valid_labels, valid_preds))"
      ],
      "execution_count": null,
      "outputs": []
    },
    {
      "cell_type": "code",
      "metadata": {
        "id": "_6mvc_jLxcHe"
      },
      "source": [
        "ConfMatrix = confusion_matrix(valid_labels, valid_preds)\n",
        "fig = plt.figure()\n",
        "ax = plt.subplot()\n",
        "sns.heatmap(ConfMatrix, annot=True, cbar=False, cmap='twilight', linewidth=0.5, fmt=\"d\")\n",
        "plt.title('Confusion Matrix')\n",
        "\n",
        "plt.xlabel('True')\n",
        "plt.ylabel('Predicted')\n",
        "ax.xaxis.set_ticklabels(['Non-toxic', 'Toxic'])\n",
        "ax.yaxis.set_ticklabels(['Non-toxic', 'Toxic'])\n",
        "plt.show()"
      ],
      "execution_count": null,
      "outputs": []
    },
    {
      "cell_type": "markdown",
      "metadata": {
        "id": "uZCEGsjiGIbT"
      },
      "source": [
        "## Saving trained model"
      ]
    },
    {
      "cell_type": "code",
      "metadata": {
        "id": "G-nIRBRPz1RD"
      },
      "source": [
        "torch.save({\n",
        "            'model_state_dict': model.state_dict(),\n",
        "            'optimizer_state_dict': optimizer.state_dict(),\n",
        "            'loss': loss,\n",
        "            }, '/content/drive/MyDrive/bert_fine_tuned') # BERT из dls (параметры не меняли)"
      ],
      "execution_count": null,
      "outputs": []
    },
    {
      "cell_type": "markdown",
      "metadata": {
        "id": "c1GzGDkL3v9S"
      },
      "source": [
        "# **PREDICTING (ON TEST DATASET)**"
      ]
    },
    {
      "cell_type": "code",
      "metadata": {
        "colab": {
          "base_uri": "https://localhost:8080/",
          "height": 402
        },
        "id": "C7QmxsyaJsxf",
        "outputId": "58da9d34-903d-49bb-951c-5dffdd8f264b"
      },
      "source": [
        "data_test = pd.read_csv('https://raw.githubusercontent.com/OlgaChaganova/TOXIC-/main/test.csv', \n",
        "                        names = ['message'], header=0)\n",
        "\n",
        "data_test['label'] = False\n",
        "\n",
        "data_test_message = data_test.copy()\n",
        "data_test_message"
      ],
      "execution_count": null,
      "outputs": [
        {
          "output_type": "execute_result",
          "data": {
            "text/html": [
              "<div>\n",
              "<style scoped>\n",
              "    .dataframe tbody tr th:only-of-type {\n",
              "        vertical-align: middle;\n",
              "    }\n",
              "\n",
              "    .dataframe tbody tr th {\n",
              "        vertical-align: top;\n",
              "    }\n",
              "\n",
              "    .dataframe thead th {\n",
              "        text-align: right;\n",
              "    }\n",
              "</style>\n",
              "<table border=\"1\" class=\"dataframe\">\n",
              "  <thead>\n",
              "    <tr style=\"text-align: right;\">\n",
              "      <th></th>\n",
              "      <th>message</th>\n",
              "      <th>label</th>\n",
              "    </tr>\n",
              "  </thead>\n",
              "  <tbody>\n",
              "    <tr>\n",
              "      <th>0</th>\n",
              "      <td>А я и не выступаю, он мне тоже не особо симпат...</td>\n",
              "      <td>False</td>\n",
              "    </tr>\n",
              "    <tr>\n",
              "      <th>1</th>\n",
              "      <td>Хочешь расскажу, как заинтриговать человека-за...</td>\n",
              "      <td>False</td>\n",
              "    </tr>\n",
              "    <tr>\n",
              "      <th>2</th>\n",
              "      <td>Инвестинг.com</td>\n",
              "      <td>False</td>\n",
              "    </tr>\n",
              "    <tr>\n",
              "      <th>3</th>\n",
              "      <td>Ересь,смотрите хотя бы канал \"Силиконовая долина\"</td>\n",
              "      <td>False</td>\n",
              "    </tr>\n",
              "    <tr>\n",
              "      <th>4</th>\n",
              "      <td>меня тинькоф кинул с плечами, самый дорогой ур...</td>\n",
              "      <td>False</td>\n",
              "    </tr>\n",
              "    <tr>\n",
              "      <th>...</th>\n",
              "      <td>...</td>\n",
              "      <td>...</td>\n",
              "    </tr>\n",
              "    <tr>\n",
              "      <th>6165</th>\n",
              "      <td>Нах?</td>\n",
              "      <td>False</td>\n",
              "    </tr>\n",
              "    <tr>\n",
              "      <th>6166</th>\n",
              "      <td>да уже слышали таких скептиков. С 2008 года пр...</td>\n",
              "      <td>False</td>\n",
              "    </tr>\n",
              "    <tr>\n",
              "      <th>6167</th>\n",
              "      <td>Что такое шорт?</td>\n",
              "      <td>False</td>\n",
              "    </tr>\n",
              "    <tr>\n",
              "      <th>6168</th>\n",
              "      <td>но никто не запрещал фотки выкидывать, не нрав...</td>\n",
              "      <td>False</td>\n",
              "    </tr>\n",
              "    <tr>\n",
              "      <th>6169</th>\n",
              "      <td>такая же х****ня</td>\n",
              "      <td>False</td>\n",
              "    </tr>\n",
              "  </tbody>\n",
              "</table>\n",
              "<p>6170 rows × 2 columns</p>\n",
              "</div>"
            ],
            "text/plain": [
              "                                                message  label\n",
              "0     А я и не выступаю, он мне тоже не особо симпат...  False\n",
              "1     Хочешь расскажу, как заинтриговать человека-за...  False\n",
              "2                                         Инвестинг.com  False\n",
              "3     Ересь,смотрите хотя бы канал \"Силиконовая долина\"  False\n",
              "4     меня тинькоф кинул с плечами, самый дорогой ур...  False\n",
              "...                                                 ...    ...\n",
              "6165                                               Нах?  False\n",
              "6166  да уже слышали таких скептиков. С 2008 года пр...  False\n",
              "6167                                    Что такое шорт?  False\n",
              "6168  но никто не запрещал фотки выкидывать, не нрав...  False\n",
              "6169                                   такая же х****ня  False\n",
              "\n",
              "[6170 rows x 2 columns]"
            ]
          },
          "metadata": {
            "tags": []
          },
          "execution_count": 37
        }
      ]
    },
    {
      "cell_type": "code",
      "metadata": {
        "colab": {
          "base_uri": "https://localhost:8080/"
        },
        "id": "O1TET9_VJzjM",
        "outputId": "58968661-2a66-4d6e-b6d8-710ef85e7fb5"
      },
      "source": [
        "test_dataloader = prepare_data_for_bert(data_test, 150, 32)\n",
        "\n",
        "test_preds, test_labels = [], []\n",
        "\n",
        "for batch in test_dataloader:   \n",
        "    # добавляем батч для вычисления на GPU\n",
        "    batch = tuple(t.to(device) for t in batch)\n",
        "    \n",
        "    # Распаковываем данные из dataloader\n",
        "    b_input_ids, b_input_mask, b_labels = batch\n",
        "    \n",
        "    # При использовании .no_grad() модель не будет считать и хранить градиенты.\n",
        "    # Это ускорит процесс предсказания меток для валидационных данных.\n",
        "    with torch.no_grad():\n",
        "        logits = model(b_input_ids, token_type_ids=None, attention_mask=b_input_mask)\n",
        "\n",
        "    # Перемещаем logits и метки классов на CPU для дальнейшей работы\n",
        "    logits = logits[0].detach().cpu().numpy()\n",
        "    label_ids = b_labels.to('cpu').numpy()\n",
        "\n",
        "    batch_preds = np.argmax(logits, axis=1)\n",
        "    batch_labels = np.concatenate(label_ids)     \n",
        "    test_preds.extend(batch_preds)\n",
        "    test_labels.extend(batch_labels)"
      ],
      "execution_count": null,
      "outputs": [
        {
          "output_type": "stream",
          "text": [
            "Token indices sequence length is longer than the specified maximum sequence length for this model (582 > 512). Running this sequence through the model will result in indexing errors\n",
            "Token indices sequence length is longer than the specified maximum sequence length for this model (517 > 512). Running this sequence through the model will result in indexing errors\n",
            "Token indices sequence length is longer than the specified maximum sequence length for this model (563 > 512). Running this sequence through the model will result in indexing errors\n"
          ],
          "name": "stderr"
        }
      ]
    },
    {
      "cell_type": "code",
      "metadata": {
        "colab": {
          "base_uri": "https://localhost:8080/",
          "height": 402
        },
        "id": "hSBmIAi_J2XQ",
        "outputId": "260842d7-1834-49c5-8568-9099a5722c8e"
      },
      "source": [
        "data_answer = data_test.copy()\n",
        "data_answer['toxic'] = test_preds\n",
        "data_answer['message'] = data_test_message['message']\n",
        "data_answer"
      ],
      "execution_count": null,
      "outputs": [
        {
          "output_type": "execute_result",
          "data": {
            "text/html": [
              "<div>\n",
              "<style scoped>\n",
              "    .dataframe tbody tr th:only-of-type {\n",
              "        vertical-align: middle;\n",
              "    }\n",
              "\n",
              "    .dataframe tbody tr th {\n",
              "        vertical-align: top;\n",
              "    }\n",
              "\n",
              "    .dataframe thead th {\n",
              "        text-align: right;\n",
              "    }\n",
              "</style>\n",
              "<table border=\"1\" class=\"dataframe\">\n",
              "  <thead>\n",
              "    <tr style=\"text-align: right;\">\n",
              "      <th></th>\n",
              "      <th>label</th>\n",
              "      <th>message</th>\n",
              "      <th>toxic</th>\n",
              "    </tr>\n",
              "  </thead>\n",
              "  <tbody>\n",
              "    <tr>\n",
              "      <th>0</th>\n",
              "      <td>False</td>\n",
              "      <td>А я и не выступаю, он мне тоже не особо симпат...</td>\n",
              "      <td>0</td>\n",
              "    </tr>\n",
              "    <tr>\n",
              "      <th>1</th>\n",
              "      <td>False</td>\n",
              "      <td>Хочешь расскажу, как заинтриговать человека-за...</td>\n",
              "      <td>0</td>\n",
              "    </tr>\n",
              "    <tr>\n",
              "      <th>2</th>\n",
              "      <td>False</td>\n",
              "      <td>Инвестинг.com</td>\n",
              "      <td>0</td>\n",
              "    </tr>\n",
              "    <tr>\n",
              "      <th>3</th>\n",
              "      <td>False</td>\n",
              "      <td>Ересь,смотрите хотя бы канал \"Силиконовая долина\"</td>\n",
              "      <td>0</td>\n",
              "    </tr>\n",
              "    <tr>\n",
              "      <th>4</th>\n",
              "      <td>False</td>\n",
              "      <td>меня тинькоф кинул с плечами, самый дорогой ур...</td>\n",
              "      <td>0</td>\n",
              "    </tr>\n",
              "    <tr>\n",
              "      <th>...</th>\n",
              "      <td>...</td>\n",
              "      <td>...</td>\n",
              "      <td>...</td>\n",
              "    </tr>\n",
              "    <tr>\n",
              "      <th>6165</th>\n",
              "      <td>False</td>\n",
              "      <td>Нах?</td>\n",
              "      <td>1</td>\n",
              "    </tr>\n",
              "    <tr>\n",
              "      <th>6166</th>\n",
              "      <td>False</td>\n",
              "      <td>да уже слышали таких скептиков. С 2008 года пр...</td>\n",
              "      <td>0</td>\n",
              "    </tr>\n",
              "    <tr>\n",
              "      <th>6167</th>\n",
              "      <td>False</td>\n",
              "      <td>Что такое шорт?</td>\n",
              "      <td>0</td>\n",
              "    </tr>\n",
              "    <tr>\n",
              "      <th>6168</th>\n",
              "      <td>False</td>\n",
              "      <td>но никто не запрещал фотки выкидывать, не нрав...</td>\n",
              "      <td>0</td>\n",
              "    </tr>\n",
              "    <tr>\n",
              "      <th>6169</th>\n",
              "      <td>False</td>\n",
              "      <td>такая же х****ня</td>\n",
              "      <td>1</td>\n",
              "    </tr>\n",
              "  </tbody>\n",
              "</table>\n",
              "<p>6170 rows × 3 columns</p>\n",
              "</div>"
            ],
            "text/plain": [
              "      label                                            message  toxic\n",
              "0     False  А я и не выступаю, он мне тоже не особо симпат...      0\n",
              "1     False  Хочешь расскажу, как заинтриговать человека-за...      0\n",
              "2     False                                      Инвестинг.com      0\n",
              "3     False  Ересь,смотрите хотя бы канал \"Силиконовая долина\"      0\n",
              "4     False  меня тинькоф кинул с плечами, самый дорогой ур...      0\n",
              "...     ...                                                ...    ...\n",
              "6165  False                                               Нах?      1\n",
              "6166  False  да уже слышали таких скептиков. С 2008 года пр...      0\n",
              "6167  False                                    Что такое шорт?      0\n",
              "6168  False  но никто не запрещал фотки выкидывать, не нрав...      0\n",
              "6169  False                                   такая же х****ня      1\n",
              "\n",
              "[6170 rows x 3 columns]"
            ]
          },
          "metadata": {
            "tags": []
          },
          "execution_count": 40
        }
      ]
    },
    {
      "cell_type": "code",
      "metadata": {
        "colab": {
          "base_uri": "https://localhost:8080/",
          "height": 402
        },
        "id": "G5B20v3SKToW",
        "outputId": "eb181acc-164c-4f1d-f47c-90fdd8b5d2e5"
      },
      "source": [
        "del data_answer['label']\n",
        "data_answer = data_answer.rename(columns={'message' : 'text'})\n",
        "data_answer"
      ],
      "execution_count": null,
      "outputs": [
        {
          "output_type": "execute_result",
          "data": {
            "text/html": [
              "<div>\n",
              "<style scoped>\n",
              "    .dataframe tbody tr th:only-of-type {\n",
              "        vertical-align: middle;\n",
              "    }\n",
              "\n",
              "    .dataframe tbody tr th {\n",
              "        vertical-align: top;\n",
              "    }\n",
              "\n",
              "    .dataframe thead th {\n",
              "        text-align: right;\n",
              "    }\n",
              "</style>\n",
              "<table border=\"1\" class=\"dataframe\">\n",
              "  <thead>\n",
              "    <tr style=\"text-align: right;\">\n",
              "      <th></th>\n",
              "      <th>text</th>\n",
              "      <th>toxic</th>\n",
              "    </tr>\n",
              "  </thead>\n",
              "  <tbody>\n",
              "    <tr>\n",
              "      <th>0</th>\n",
              "      <td>А я и не выступаю, он мне тоже не особо симпат...</td>\n",
              "      <td>0</td>\n",
              "    </tr>\n",
              "    <tr>\n",
              "      <th>1</th>\n",
              "      <td>Хочешь расскажу, как заинтриговать человека-за...</td>\n",
              "      <td>0</td>\n",
              "    </tr>\n",
              "    <tr>\n",
              "      <th>2</th>\n",
              "      <td>Инвестинг.com</td>\n",
              "      <td>0</td>\n",
              "    </tr>\n",
              "    <tr>\n",
              "      <th>3</th>\n",
              "      <td>Ересь,смотрите хотя бы канал \"Силиконовая долина\"</td>\n",
              "      <td>0</td>\n",
              "    </tr>\n",
              "    <tr>\n",
              "      <th>4</th>\n",
              "      <td>меня тинькоф кинул с плечами, самый дорогой ур...</td>\n",
              "      <td>0</td>\n",
              "    </tr>\n",
              "    <tr>\n",
              "      <th>...</th>\n",
              "      <td>...</td>\n",
              "      <td>...</td>\n",
              "    </tr>\n",
              "    <tr>\n",
              "      <th>6165</th>\n",
              "      <td>Нах?</td>\n",
              "      <td>1</td>\n",
              "    </tr>\n",
              "    <tr>\n",
              "      <th>6166</th>\n",
              "      <td>да уже слышали таких скептиков. С 2008 года пр...</td>\n",
              "      <td>0</td>\n",
              "    </tr>\n",
              "    <tr>\n",
              "      <th>6167</th>\n",
              "      <td>Что такое шорт?</td>\n",
              "      <td>0</td>\n",
              "    </tr>\n",
              "    <tr>\n",
              "      <th>6168</th>\n",
              "      <td>но никто не запрещал фотки выкидывать, не нрав...</td>\n",
              "      <td>0</td>\n",
              "    </tr>\n",
              "    <tr>\n",
              "      <th>6169</th>\n",
              "      <td>такая же х****ня</td>\n",
              "      <td>1</td>\n",
              "    </tr>\n",
              "  </tbody>\n",
              "</table>\n",
              "<p>6170 rows × 2 columns</p>\n",
              "</div>"
            ],
            "text/plain": [
              "                                                   text  toxic\n",
              "0     А я и не выступаю, он мне тоже не особо симпат...      0\n",
              "1     Хочешь расскажу, как заинтриговать человека-за...      0\n",
              "2                                         Инвестинг.com      0\n",
              "3     Ересь,смотрите хотя бы канал \"Силиконовая долина\"      0\n",
              "4     меня тинькоф кинул с плечами, самый дорогой ур...      0\n",
              "...                                                 ...    ...\n",
              "6165                                               Нах?      1\n",
              "6166  да уже слышали таких скептиков. С 2008 года пр...      0\n",
              "6167                                    Что такое шорт?      0\n",
              "6168  но никто не запрещал фотки выкидывать, не нрав...      0\n",
              "6169                                   такая же х****ня      1\n",
              "\n",
              "[6170 rows x 2 columns]"
            ]
          },
          "metadata": {
            "tags": []
          },
          "execution_count": 41
        }
      ]
    },
    {
      "cell_type": "code",
      "metadata": {
        "id": "remaxvVAKgMU"
      },
      "source": [
        "data_answer.to_csv('data_answer_TOXIC2.csv', index=False)"
      ],
      "execution_count": null,
      "outputs": []
    },
    {
      "cell_type": "markdown",
      "metadata": {
        "id": "tz0jH--JGSn9"
      },
      "source": [
        "# Task 2: fighting against unintended bias"
      ]
    },
    {
      "cell_type": "markdown",
      "metadata": {
        "id": "D_cy45sP49QG"
      },
      "source": [
        "## Re-marked data"
      ]
    },
    {
      "cell_type": "code",
      "metadata": {
        "id": "gnvR80J64H4n"
      },
      "source": [
        "data2 = pd.read_csv('https://raw.githubusercontent.com/OlgaChaganova/TOXIC-/main/categories.csv')"
      ],
      "execution_count": null,
      "outputs": []
    },
    {
      "cell_type": "code",
      "metadata": {
        "id": "1BlaiA5gMoJo"
      },
      "source": [
        "def calculate_metrics_on_test(data, model):\n",
        "\n",
        "  SUBGROUP_AUC = 'subgroup_auc'\n",
        "  BPSN_AUC = 'bpsn_auc'  # stands for background positive, subgroup negative\n",
        "  BNSP_AUC = 'bnsp_auc'  # stands for background negative, subgroup positive\n",
        "\n",
        "  data_cleaned = prepross_text_in_dataset2(data)\n",
        "  validation_dataloader = prepare_data_for_bert(data_cleaned.loc[:, ['message', 'label']], 150, 32)\n",
        "  \n",
        "  model.eval()\n",
        "\n",
        "  valid_preds, valid_labels, valid_proba = [], [], []\n",
        "\n",
        "  for batch in validation_dataloader:   \n",
        "      # добавляем батч для вычисления на GPU\n",
        "      batch = tuple(t.to(device) for t in batch)\n",
        "      \n",
        "      # Распаковываем данные из dataloader\n",
        "      b_input_ids, b_input_mask, b_labels = batch\n",
        "      \n",
        "      # При использовании .no_grad() модель не будет считать и хранить градиенты.\n",
        "      # Это ускорит процесс предсказания меток для валидационных данных.\n",
        "      with torch.no_grad():\n",
        "          logits = model(b_input_ids, token_type_ids=None, attention_mask=b_input_mask)\n",
        "\n",
        "      # Перемещаем logits и метки классов на CPU для дальнейшей работы\n",
        "      logits = logits[0].detach().cpu().numpy()\n",
        "      p = torch.nn.functional.softmax(torch.from_numpy(logits), dim=1)\n",
        "\n",
        "      max_p = []\n",
        "      for i in range(len(p)):\n",
        "        max_p.append(torch.max(p[i]))\n",
        "\n",
        "      label_ids = b_labels.to('cpu').numpy()\n",
        "      \n",
        "      batch_preds = np.argmax(logits, axis=1)\n",
        "      batch_labels = np.concatenate(label_ids)\n",
        "      \n",
        "      valid_proba.extend(max_p)\n",
        "      valid_preds.extend(batch_preds)\n",
        "      valid_labels.extend(batch_labels)\n",
        "\n",
        "  data_cleaned['pred_proba'] = valid_proba # p\n",
        "\n",
        "  model_preds = 'pred_proba'\n",
        "  target_label = 'label'\n",
        "\n",
        "  categories = data_cleaned.category.unique()\n",
        "  for category in categories:\n",
        "      data_cleaned[category] = data_cleaned.category == category\n",
        "\n",
        "  bias_metrics_df = compute_bias_metrics_for_model(data_cleaned, categories, model_preds, target_label)\n",
        "\n",
        "  return bias_metrics_df.dropna()"
      ],
      "execution_count": null,
      "outputs": []
    },
    {
      "cell_type": "code",
      "metadata": {
        "id": "UQ4as42bNAjU"
      },
      "source": [
        "def compute_auc(y_true, y_pred):\n",
        "    try:\n",
        "        return metrics.roc_auc_score(y_true, y_pred)\n",
        "    except ValueError:\n",
        "        return np.nan\n",
        "\n",
        "def compute_subgroup_auc(df, subgroup, label, model_name):\n",
        "    subgroup_examples = df[df[subgroup]]\n",
        "    return compute_auc(subgroup_examples[label], subgroup_examples[model_name])\n",
        "\n",
        "def compute_bpsn_auc(df, subgroup, label, model_name):\n",
        "    \"\"\"Computes the AUC of the within-subgroup negative examples and the background positive examples.\"\"\"\n",
        "    subgroup_negative_examples = df[df[subgroup] & ~df[label]]\n",
        "    non_subgroup_positive_examples = df[~df[subgroup] & df[label]]\n",
        "    examples = subgroup_negative_examples.append(non_subgroup_positive_examples)\n",
        "    return compute_auc(examples[label], examples[model_name])\n",
        "\n",
        "def compute_bnsp_auc(df, subgroup, label, model_name):\n",
        "    \"\"\"Computes the AUC of the within-subgroup positive examples and the background negative examples.\"\"\"\n",
        "    subgroup_positive_examples = df[df[subgroup] & df[label]]\n",
        "    non_subgroup_negative_examples = df[~df[subgroup] & ~df[label]]\n",
        "    examples = subgroup_positive_examples.append(non_subgroup_negative_examples)\n",
        "    return compute_auc(examples[label], examples[model_name])\n",
        "\n",
        "def compute_bias_metrics_for_model(dataset,\n",
        "                                   subgroups,\n",
        "                                   model,\n",
        "                                   label_col,\n",
        "                                   include_asegs=False):\n",
        "  \n",
        "  \n",
        "  SUBGROUP_AUC = 'subgroup_auc'\n",
        "  BPSN_AUC = 'bpsn_auc'  # stands for background positive, subgroup negative\n",
        "  BNSP_AUC = 'bnsp_auc'  # stands for background negative, subgroup positive\n",
        "\n",
        "  \"\"\"Computes per-subgroup metrics for all subgroups and one model.\"\"\"\n",
        "  records = []\n",
        "  for subgroup in subgroups:\n",
        "      record = {\n",
        "          'subgroup': subgroup,\n",
        "          'subgroup_size': len(dataset[dataset[subgroup]])\n",
        "      }\n",
        "      record[SUBGROUP_AUC] = compute_subgroup_auc(dataset, subgroup, label_col, model)\n",
        "      record[BPSN_AUC] = compute_bpsn_auc(dataset, subgroup, label_col, model)\n",
        "      record[BNSP_AUC] = compute_bnsp_auc(dataset, subgroup, label_col, model)\n",
        "      records.append(record)\n",
        "      \n",
        "  return pd.DataFrame(records).sort_values('subgroup_auc', ascending=True)\n",
        "\n",
        "\n",
        "def calculate_overall_auc(df, model_name):\n",
        "    true_labels = df['label']\n",
        "    predicted_labels = df[model_name]\n",
        "    return metrics.roc_auc_score(true_labels, predicted_labels)\n",
        "\n",
        "def power_mean(series, p):\n",
        "    total = sum(np.power(series, p))\n",
        "    return np.power(total / len(series), 1 / p)\n",
        "\n",
        "def get_final_metric(bias_df, overall_auc, POWER=-5, OVERALL_MODEL_WEIGHT=0.25):\n",
        "    bias_score = np.average([\n",
        "        power_mean(bias_df['subgroup_auc'], POWER),\n",
        "        power_mean(bias_df['bpsn_auc'], POWER),\n",
        "        power_mean(bias_df['bnsp_auc'], POWER)\n",
        "    ])\n",
        "    return (OVERALL_MODEL_WEIGHT * overall_auc) + ((1 - OVERALL_MODEL_WEIGHT) * bias_score)"
      ],
      "execution_count": null,
      "outputs": []
    },
    {
      "cell_type": "code",
      "metadata": {
        "colab": {
          "base_uri": "https://localhost:8080/"
        },
        "id": "ftrc92rONV2A",
        "outputId": "e0836a5d-554c-460b-a244-f1faa31e65ca"
      },
      "source": [
        "bias_metrics_df = calculate_metrics_on_test(data2, model)\n",
        "bias_metrics_df\n",
        "\n",
        "\n",
        "overall_auc = calculate_overall_auc(data2, 'pred_proba')\n",
        "get_final_metric(bias_metrics_df, overall_auc)"
      ],
      "execution_count": null,
      "outputs": [
        {
          "output_type": "execute_result",
          "data": {
            "text/plain": [
              "0.4869334526969905"
            ]
          },
          "metadata": {
            "tags": []
          },
          "execution_count": 59
        }
      ]
    },
    {
      "cell_type": "code",
      "metadata": {
        "colab": {
          "base_uri": "https://localhost:8080/",
          "height": 166
        },
        "id": "n7vSZ5vJPuKC",
        "outputId": "8c14da8b-be51-4dcc-8f21-b8524795d1e6"
      },
      "source": [
        "bias_metrics_df"
      ],
      "execution_count": null,
      "outputs": [
        {
          "output_type": "execute_result",
          "data": {
            "text/html": [
              "<div>\n",
              "<style scoped>\n",
              "    .dataframe tbody tr th:only-of-type {\n",
              "        vertical-align: middle;\n",
              "    }\n",
              "\n",
              "    .dataframe tbody tr th {\n",
              "        vertical-align: top;\n",
              "    }\n",
              "\n",
              "    .dataframe thead th {\n",
              "        text-align: right;\n",
              "    }\n",
              "</style>\n",
              "<table border=\"1\" class=\"dataframe\">\n",
              "  <thead>\n",
              "    <tr style=\"text-align: right;\">\n",
              "      <th></th>\n",
              "      <th>subgroup</th>\n",
              "      <th>subgroup_size</th>\n",
              "      <th>subgroup_auc</th>\n",
              "      <th>bpsn_auc</th>\n",
              "      <th>bnsp_auc</th>\n",
              "    </tr>\n",
              "  </thead>\n",
              "  <tbody>\n",
              "    <tr>\n",
              "      <th>3</th>\n",
              "      <td>другое</td>\n",
              "      <td>937</td>\n",
              "      <td>0.445995</td>\n",
              "      <td>0.502644</td>\n",
              "      <td>0.453659</td>\n",
              "    </tr>\n",
              "    <tr>\n",
              "      <th>2</th>\n",
              "      <td>политика</td>\n",
              "      <td>995</td>\n",
              "      <td>0.464932</td>\n",
              "      <td>0.469317</td>\n",
              "      <td>0.487182</td>\n",
              "    </tr>\n",
              "    <tr>\n",
              "      <th>0</th>\n",
              "      <td>сексизм</td>\n",
              "      <td>825</td>\n",
              "      <td>0.492248</td>\n",
              "      <td>0.473121</td>\n",
              "      <td>0.494653</td>\n",
              "    </tr>\n",
              "    <tr>\n",
              "      <th>1</th>\n",
              "      <td>компании</td>\n",
              "      <td>1018</td>\n",
              "      <td>0.650879</td>\n",
              "      <td>0.489917</td>\n",
              "      <td>0.624245</td>\n",
              "    </tr>\n",
              "  </tbody>\n",
              "</table>\n",
              "</div>"
            ],
            "text/plain": [
              "   subgroup  subgroup_size  subgroup_auc  bpsn_auc  bnsp_auc\n",
              "3    другое            937      0.445995  0.502644  0.453659\n",
              "2  политика            995      0.464932  0.469317  0.487182\n",
              "0   сексизм            825      0.492248  0.473121  0.494653\n",
              "1  компании           1018      0.650879  0.489917  0.624245"
            ]
          },
          "metadata": {
            "tags": []
          },
          "execution_count": 60
        }
      ]
    },
    {
      "cell_type": "markdown",
      "metadata": {
        "id": "2u6IK5rZMmpo"
      },
      "source": [
        "## Data by Tinkoff (original)"
      ]
    },
    {
      "cell_type": "code",
      "metadata": {
        "id": "3W52vQmHQQaP"
      },
      "source": [
        "data3 = pd.read_csv('https://raw.githubusercontent.com/OlgaChaganova/TOXIC-/main/task2_data.csv')\n"
      ],
      "execution_count": null,
      "outputs": []
    },
    {
      "cell_type": "code",
      "metadata": {
        "colab": {
          "base_uri": "https://localhost:8080/"
        },
        "id": "JfwEZ7iaQLGc",
        "outputId": "d519f526-500f-460c-d53b-4e84af8e319e"
      },
      "source": [
        "bias_metrics_df = calculate_metrics_on_test(data3, model)\n",
        "\n",
        "overall_auc = calculate_overall_auc(data3, 'pred_proba')\n",
        "get_final_metric(bias_metrics_df, overall_auc)"
      ],
      "execution_count": null,
      "outputs": [
        {
          "output_type": "execute_result",
          "data": {
            "text/plain": [
              "0.5062368529973822"
            ]
          },
          "metadata": {
            "tags": []
          },
          "execution_count": 62
        }
      ]
    },
    {
      "cell_type": "code",
      "metadata": {
        "colab": {
          "base_uri": "https://localhost:8080/",
          "height": 166
        },
        "id": "YCI_EfLIQzCi",
        "outputId": "fe67fdf8-b734-4049-dcce-25c0d11126a6"
      },
      "source": [
        "bias_metrics_df"
      ],
      "execution_count": null,
      "outputs": [
        {
          "output_type": "execute_result",
          "data": {
            "text/html": [
              "<div>\n",
              "<style scoped>\n",
              "    .dataframe tbody tr th:only-of-type {\n",
              "        vertical-align: middle;\n",
              "    }\n",
              "\n",
              "    .dataframe tbody tr th {\n",
              "        vertical-align: top;\n",
              "    }\n",
              "\n",
              "    .dataframe thead th {\n",
              "        text-align: right;\n",
              "    }\n",
              "</style>\n",
              "<table border=\"1\" class=\"dataframe\">\n",
              "  <thead>\n",
              "    <tr style=\"text-align: right;\">\n",
              "      <th></th>\n",
              "      <th>subgroup</th>\n",
              "      <th>subgroup_size</th>\n",
              "      <th>subgroup_auc</th>\n",
              "      <th>bpsn_auc</th>\n",
              "      <th>bnsp_auc</th>\n",
              "    </tr>\n",
              "  </thead>\n",
              "  <tbody>\n",
              "    <tr>\n",
              "      <th>3</th>\n",
              "      <td>политика</td>\n",
              "      <td>986</td>\n",
              "      <td>0.453345</td>\n",
              "      <td>0.518760</td>\n",
              "      <td>0.452401</td>\n",
              "    </tr>\n",
              "    <tr>\n",
              "      <th>0</th>\n",
              "      <td>сексизм</td>\n",
              "      <td>820</td>\n",
              "      <td>0.496415</td>\n",
              "      <td>0.523503</td>\n",
              "      <td>0.488172</td>\n",
              "    </tr>\n",
              "    <tr>\n",
              "      <th>4</th>\n",
              "      <td>другое</td>\n",
              "      <td>969</td>\n",
              "      <td>0.520185</td>\n",
              "      <td>0.489469</td>\n",
              "      <td>0.531196</td>\n",
              "    </tr>\n",
              "    <tr>\n",
              "      <th>1</th>\n",
              "      <td>компании</td>\n",
              "      <td>1000</td>\n",
              "      <td>0.601637</td>\n",
              "      <td>0.511169</td>\n",
              "      <td>0.594315</td>\n",
              "    </tr>\n",
              "  </tbody>\n",
              "</table>\n",
              "</div>"
            ],
            "text/plain": [
              "   subgroup  subgroup_size  subgroup_auc  bpsn_auc  bnsp_auc\n",
              "3  политика            986      0.453345  0.518760  0.452401\n",
              "0   сексизм            820      0.496415  0.523503  0.488172\n",
              "4    другое            969      0.520185  0.489469  0.531196\n",
              "1  компании           1000      0.601637  0.511169  0.594315"
            ]
          },
          "metadata": {
            "tags": []
          },
          "execution_count": 63
        }
      ]
    }
  ]
}